{
 "cells": [
  {
   "cell_type": "markdown",
   "metadata": {},
   "source": [
    "### LangChain - Demonstration - Multiple Prompts Chained"
   ]
  },
  {
   "cell_type": "code",
   "execution_count": 6,
   "metadata": {},
   "outputs": [],
   "source": [
    "import os\n",
    "\n",
    "from dotenv import load_dotenv\n",
    "from langchain_core.prompts import PromptTemplate\n",
    "from langchain_openai import ChatOpenAI\n",
    "from langchain.chains import LLMChain, SequentialChain"
   ]
  },
  {
   "cell_type": "code",
   "execution_count": 4,
   "metadata": {},
   "outputs": [],
   "source": [
    "load_dotenv()\n",
    "\n",
    "openai_api_key = os.environ[\"OPENAI_API_KEY\"]\n",
    "model_name = \"gpt-3.5-turbo-0125\"\n",
    "temperature = 1.0\n",
    "max_tokens = 512"
   ]
  },
  {
   "cell_type": "code",
   "execution_count": 5,
   "metadata": {},
   "outputs": [],
   "source": [
    "llm = ChatOpenAI(\n",
    "    model=model_name,\n",
    "    temperature=temperature,\n",
    "    max_tokens=max_tokens,\n",
    "    openai_api_key=openai_api_key\n",
    ")"
   ]
  },
  {
   "cell_type": "code",
   "execution_count": null,
   "metadata": {},
   "outputs": [],
   "source": [
    "template1 = \"\"\"\n",
    "    Write a Blog Outline given a topic.\n",
    "    \n",
    "    Topic: {topic}\n",
    "\"\"\"\n",
    "\n",
    "template2 = \"\"\"\n",
    "    Write a Blog Article based on the outline given below.\n",
    "    \n",
    "    Outline: {outline}\n",
    "\"\"\"\n",
    "\n",
    "prompt_template1 = PromptTemplate(\n",
    "    input_variables=[\"topic\"],\n",
    "    template=template1)\n",
    "\n",
    "prompt_template2 = PromptTemplate(\n",
    "    input_variables=[\"outline\"],\n",
    "    template=template2\n",
    ")\n",
    "\n",
    "outline_chain = LLMChain(llm=llm,\n",
    "                         prompt=prompt_template1,\n",
    "                         output_key=\"outline\")\n",
    "\n",
    "article_chain = LLMChain(llm=llm,\n",
    "                         prompt=prompt_template2,\n",
    "                         output_key=\"article\")\n",
    "\n",
    "overall_chain = SequentialChain(\n",
    "    chains=[outline_chain, article_chain],\n",
    "    input_variables=[\"topic\"],\n",
    "    output_variables=[\"outline\", \"article\"],\n",
    "    verbose=True\n",
    ")"
   ]
  },
  {
   "cell_type": "code",
   "execution_count": null,
   "metadata": {},
   "outputs": [],
   "source": [
    "response = overall_chain({\n",
    "    \"topic\": \"Kyndryl Inc.\"\n",
    "})"
   ]
  },
  {
   "cell_type": "code",
   "execution_count": null,
   "metadata": {},
   "outputs": [],
   "source": [
    "print(response)"
   ]
  },
  {
   "cell_type": "code",
   "execution_count": null,
   "metadata": {},
   "outputs": [],
   "source": [
    "print(response[\"article\"])"
   ]
  }
 ],
 "metadata": {
  "kernelspec": {
   "display_name": "env",
   "language": "python",
   "name": "python3"
  },
  "language_info": {
   "codemirror_mode": {
    "name": "ipython",
    "version": 3
   },
   "file_extension": ".py",
   "mimetype": "text/x-python",
   "name": "python",
   "nbconvert_exporter": "python",
   "pygments_lexer": "ipython3",
   "version": "3.12.7"
  }
 },
 "nbformat": 4,
 "nbformat_minor": 2
}
